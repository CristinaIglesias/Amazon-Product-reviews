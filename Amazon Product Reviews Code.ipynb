{
 "cells": [
  {
   "cell_type": "code",
   "execution_count": null,
   "id": "5b1c0a7f",
   "metadata": {},
   "outputs": [],
   "source": [
    "\n",
    "from bs4 import BeautifulSoup as bs\n",
    "import requests\n",
    "import pandas as pd"
   ]
  },
  {
   "cell_type": "code",
   "execution_count": null,
   "id": "58558344",
   "metadata": {},
   "outputs": [],
   "source": [
    "headers = {\"User-Agent\": \"\"}\n",
    "\n",
    "link = \"\"\n",
    "  \n",
    "page = requests.get(link,headers = headers)"
   ]
  },
  {
   "cell_type": "code",
   "execution_count": null,
   "id": "f005206e",
   "metadata": {},
   "outputs": [],
   "source": [
    "page.content"
   ]
  },
  {
   "cell_type": "code",
   "execution_count": null,
   "id": "315215fe",
   "metadata": {},
   "outputs": [],
   "source": [
    "soup = bs(page.content, \"html.parser\")\n",
    "soup.i.get_text()\n",
    "print(soup.prettify())"
   ]
  },
  {
   "cell_type": "code",
   "execution_count": null,
   "id": "54469d73",
   "metadata": {},
   "outputs": [],
   "source": [
    "names = soup.find_all(\"span\",class_= \"a-profile-name\")"
   ]
  },
  {
   "cell_type": "code",
   "execution_count": null,
   "id": "22020e12",
   "metadata": {},
   "outputs": [],
   "source": [
    "names"
   ]
  },
  {
   "cell_type": "code",
   "execution_count": null,
   "id": "355ecebf",
   "metadata": {},
   "outputs": [],
   "source": [
    "customer_name = []\n",
    "\n",
    "for i in range (0, len(names)):\n",
    "    customer_name.append(names[i].get_text())"
   ]
  },
  {
   "cell_type": "code",
   "execution_count": null,
   "id": "aa82d060",
   "metadata": {},
   "outputs": [],
   "source": [
    "customer_name"
   ]
  },
  {
   "cell_type": "code",
   "execution_count": null,
   "id": "6d03f472",
   "metadata": {},
   "outputs": [],
   "source": [
    "customer_name.pop(0)"
   ]
  },
  {
   "cell_type": "code",
   "execution_count": null,
   "id": "8fb57963",
   "metadata": {},
   "outputs": [],
   "source": [
    "title = soup.find_all(\"a\", class_= \"review-title-content\")"
   ]
  },
  {
   "cell_type": "code",
   "execution_count": null,
   "id": "ed3e898e",
   "metadata": {},
   "outputs": [],
   "source": [
    "title"
   ]
  },
  {
   "cell_type": "code",
   "execution_count": null,
   "id": "3b3033b9",
   "metadata": {},
   "outputs": [],
   "source": [
    "review_title = []\n",
    "\n",
    "for i in range (0, len(title)):\n",
    "    review_title.append(title[i].get_text())"
   ]
  },
  {
   "cell_type": "code",
   "execution_count": null,
   "id": "e13d0651",
   "metadata": {},
   "outputs": [],
   "source": [
    "review_title"
   ]
  },
  {
   "cell_type": "code",
   "execution_count": null,
   "id": "66a2a3bb",
   "metadata": {},
   "outputs": [],
   "source": [
    "review_title[:] = [titles.lstrip(\"\\n\")for titles in review_title]"
   ]
  },
  {
   "cell_type": "code",
   "execution_count": null,
   "id": "0e591fbd",
   "metadata": {},
   "outputs": [],
   "source": [
    "review_title"
   ]
  },
  {
   "cell_type": "code",
   "execution_count": null,
   "id": "958f0dfd",
   "metadata": {},
   "outputs": [],
   "source": [
    "rating = soup.find_all(\"i\",class_= \"review-rating\")"
   ]
  },
  {
   "cell_type": "code",
   "execution_count": null,
   "id": "f1b7b1e6",
   "metadata": {},
   "outputs": [],
   "source": [
    "rating"
   ]
  },
  {
   "cell_type": "code",
   "execution_count": null,
   "id": "801c8d6a",
   "metadata": {},
   "outputs": [],
   "source": [
    "rate = []\n",
    "\n",
    "for i in range (0, len(rating)):\n",
    "    rate.append(rating[i].get_text())"
   ]
  },
  {
   "cell_type": "code",
   "execution_count": null,
   "id": "1a19bef9",
   "metadata": {},
   "outputs": [],
   "source": [
    "rate"
   ]
  },
  {
   "cell_type": "code",
   "execution_count": null,
   "id": "9edbefc8",
   "metadata": {},
   "outputs": [],
   "source": [
    "review = soup.find_all(\"span\",{\"data-hook\":\"review-body\"})"
   ]
  },
  {
   "cell_type": "code",
   "execution_count": null,
   "id": "34ce9b38",
   "metadata": {},
   "outputs": [],
   "source": [
    "review"
   ]
  },
  {
   "cell_type": "code",
   "execution_count": null,
   "id": "d1018b31",
   "metadata": {},
   "outputs": [],
   "source": [
    "review_content = []\n",
    "\n",
    "for i in range (0, len(review)):\n",
    "    review_content.append(review[i].get_text())"
   ]
  },
  {
   "cell_type": "code",
   "execution_count": null,
   "id": "d375c508",
   "metadata": {},
   "outputs": [],
   "source": [
    "review_content"
   ]
  },
  {
   "cell_type": "code",
   "execution_count": null,
   "id": "4ebd52d8",
   "metadata": {},
   "outputs": [],
   "source": [
    "review_content[:] = [reviews.lstrip(\"\\n\")for reviews in review_content]"
   ]
  },
  {
   "cell_type": "code",
   "execution_count": null,
   "id": "7d066bc8",
   "metadata": {},
   "outputs": [],
   "source": [
    "review_content"
   ]
  }
 ],
 "metadata": {
  "kernelspec": {
   "display_name": "Python 3 (ipykernel)",
   "language": "python",
   "name": "python3"
  },
  "language_info": {
   "codemirror_mode": {
    "name": "ipython",
    "version": 3
   },
   "file_extension": ".py",
   "mimetype": "text/x-python",
   "name": "python",
   "nbconvert_exporter": "python",
   "pygments_lexer": "ipython3",
   "version": "3.8.8"
  }
 },
 "nbformat": 4,
 "nbformat_minor": 5
}
