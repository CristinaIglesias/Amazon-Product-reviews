{
 "cells": [
  {
   "cell_type": "markdown",
   "id": "9ce76963",
   "metadata": {},
   "source": [
    "\n",
    "###  Simple Tutorial Amazon Product Reviews\n",
    "\n",
    "\n",
    "\n",
    "  Request: for sending a request of the URL.\n",
    " \n",
    "  BeautifulSoup: Python library for pulling data out of HTML and XML files.\n",
    "\n",
    "\n",
    " * import libraries. \n",
    " * header your pc Amazon link,page. \n",
    " * BeautifulSoup \n",
    " * Find Customer Names. \n",
    " * Customer name list.\n",
    " * Title Review.\n",
    " * Review Title list.Remove trailing characters.\n",
    " * Find Reviews Ratings.\n",
    " * Rating list. \n",
    " * Find Content reviews.\n",
    " * Review List.Remove trailing characters.\n"
   ]
  },
  {
   "cell_type": "code",
   "execution_count": 92,
   "id": "8ee9a236",
   "metadata": {},
   "outputs": [],
   "source": [
    "\n",
    "from bs4 import BeautifulSoup as bs\n",
    "import requests\n",
    "import pandas as pd"
   ]
  },
  {
   "cell_type": "code",
   "execution_count": 93,
   "id": "e352857a",
   "metadata": {},
   "outputs": [],
   "source": [
    "headers = {\"User-Agent\": \"Mozilla/5.0 (Windows NT 10.0; Win64; x64) AppleWebKit/537.36 (KHTML, like Gecko) Chrome/95.0.4638.69 Safari/537.36\"}\n",
    "\n",
    "link = \"https://www.amazon.com/Xiaomi-Factory-Unlocked-Compatible-International/dp/B08Y8MDMF4/ref=sr_1_1?crid=263OYGIJFKDOT&keywords=xiaomi+redmi+note+10+pro&qid=1641844872&sprefix=xiaomi+%2Caps%2C158&sr=8-1#customerReviews\"\n",
    "  \n",
    "page = requests.get(link,headers = headers)"
   ]
  },
  {
   "cell_type": "code",
   "execution_count": 94,
   "id": "555b5f9b",
   "metadata": {},
   "outputs": [
    {
     "data": {
      "text/plain": [
       "b'<!DOCTYPE html>\\n<!--[if lt IE 7]> <html lang=\"en-us\" class=\"a-no-js a-lt-ie9 a-lt-ie8 a-lt-ie7\"> <![endif]-->\\n<!--[if IE 7]>    <html lang=\"en-us\" class=\"a-no-js a-lt-ie9 a-lt-ie8\"> <![endif]-->\\n<!--[if IE 8]>    <html lang=\"en-us\" class=\"a-no-js a-lt-ie9\"> <![endif]-->\\n<!--[if gt IE 8]><!-->\\n<html class=\"a-no-js\" lang=\"en-us\"><!--<![endif]--><head>\\n<meta http-equiv=\"content-type\" content=\"text/html; charset=UTF-8\">\\n<meta charset=\"utf-8\">\\n<meta http-equiv=\"X-UA-Compatible\" content=\"IE=edge,chrome=1\">\\n<title dir=\"ltr\">Amazon.com</title>\\n<meta name=\"viewport\" content=\"width=device-width\">\\n<link rel=\"stylesheet\" href=\"https://images-na.ssl-images-amazon.com/images/G/01/AUIClients/AmazonUI-3c913031596ca78a3768f4e934b1cc02ce238101.secure.min._V1_.css\">\\n<script>\\n\\nif (true === true) {\\n    var ue_t0 = (+ new Date()),\\n        ue_csm = window,\\n        ue = { t0: ue_t0, d: function() { return (+new Date() - ue_t0); } },\\n        ue_furl = \"fls-na.amazon.com\",\\n        ue_mid = \"ATVPDKIKX0DER\",\\n        ue_sid = (document.cookie.match(/session-id=([0-9-]+)/) || [])[1],\\n        ue_sn = \"opfcaptcha.amazon.com\",\\n        ue_id = \\'E67ZZBEAR0T6XHDHXT7D\\';\\n}\\n</script>\\n</head>\\n<body>\\n\\n<!--\\n        To discuss automated access to Amazon data please contact api-services-support@amazon.com.\\n        For information about migrating to our APIs refer to our Marketplace APIs at https://developer.amazonservices.com/ref=rm_c_sv, or our Product Advertising API at https://affiliate-program.amazon.com/gp/advertising/api/detail/main.html/ref=rm_c_ac for advertising use cases.\\n-->\\n\\n<!--\\nCorreios.DoNotSend\\n-->\\n\\n<div class=\"a-container a-padding-double-large\" style=\"min-width:350px;padding:44px 0 !important\">\\n\\n    <div class=\"a-row a-spacing-double-large\" style=\"width: 350px; margin: 0 auto\">\\n\\n        <div class=\"a-row a-spacing-medium a-text-center\"><i class=\"a-icon a-logo\"></i></div>\\n\\n        <div class=\"a-box a-alert a-alert-info a-spacing-base\">\\n            <div class=\"a-box-inner\">\\n                <i class=\"a-icon a-icon-alert\"></i>\\n                <h4>Enter the characters you see below</h4>\\n                <p class=\"a-last\">Sorry, we just need to make sure you\\'re not a robot. For best results, please make sure your browser is accepting cookies.</p>\\n                </div>\\n            </div>\\n\\n            <div class=\"a-section\">\\n\\n                <div class=\"a-box a-color-offset-background\">\\n                    <div class=\"a-box-inner a-padding-extra-large\">\\n\\n                        <form method=\"get\" action=\"/errors/validateCaptcha\" name=\"\">\\n                            <input type=hidden name=\"amzn\" value=\"FkwfpmjpDqZAu4wnCC29dg==\" /><input type=hidden name=\"amzn-r\" value=\"&#047;Xiaomi&#045;Factory&#045;Unlocked&#045;Compatible&#045;International&#047;dp&#047;B08Y8MDMF4&#047;ref&#061;sr_1_1?crid&#061;263OYGIJFKDOT&amp;keywords&#061;xiaomi&#043;redmi&#043;note&#043;10&#043;pro&amp;qid&#061;1641844872&amp;sprefix&#061;xiaomi&#043;&#037;2Caps&#037;2C158&amp;sr&#061;8&#045;1\" />\\n                            <div class=\"a-row a-spacing-large\">\\n                                <div class=\"a-box\">\\n                                    <div class=\"a-box-inner\">\\n                                        <h4>Type the characters you see in this image:</h4>\\n                                        <div class=\"a-row a-text-center\">\\n                                            <img src=\"https://images-na.ssl-images-amazon.com/captcha/derqnxxq/Captcha_hgdtcewwfl.jpg\">\\n                                        </div>\\n                                        <div class=\"a-row a-spacing-base\">\\n                                            <div class=\"a-row\">\\n                                                <div class=\"a-column a-span6\">\\n                                                </div>\\n                                                <div class=\"a-column a-span6 a-span-last a-text-right\">\\n                                                    <a onclick=\"window.location.reload()\">Try different image</a>\\n                                                </div>\\n                                            </div>\\n                                            <input autocomplete=\"off\" spellcheck=\"false\" placeholder=\"Type characters\" id=\"captchacharacters\" name=\"field-keywords\" class=\"a-span12\" autocapitalize=\"off\" autocorrect=\"off\" type=\"text\">\\n                                        </div>\\n                                    </div>\\n                                </div>\\n                            </div>\\n\\n                            <div class=\"a-section a-spacing-extra-large\">\\n\\n                                <div class=\"a-row\">\\n                                    <span class=\"a-button a-button-primary a-span12\">\\n                                        <span class=\"a-button-inner\">\\n                                            <button type=\"submit\" class=\"a-button-text\">Continue shopping</button>\\n                                        </span>\\n                                    </span>\\n                                </div>\\n\\n                            </div>\\n                        </form>\\n\\n                    </div>\\n                </div>\\n\\n            </div>\\n\\n        </div>\\n\\n        <div class=\"a-divider a-divider-section\"><div class=\"a-divider-inner\"></div></div>\\n\\n        <div class=\"a-text-center a-spacing-small a-size-mini\">\\n            <a href=\"https://www.amazon.com/gp/help/customer/display.html/ref=footer_cou?ie=UTF8&nodeId=508088\">Conditions of Use</a>\\n            <span class=\"a-letter-space\"></span>\\n            <span class=\"a-letter-space\"></span>\\n            <span class=\"a-letter-space\"></span>\\n            <span class=\"a-letter-space\"></span>\\n            <a href=\"https://www.amazon.com/gp/help/customer/display.html/ref=footer_privacy?ie=UTF8&nodeId=468496\">Privacy Policy</a>\\n        </div>\\n        <div class=\"a-text-center a-size-mini a-color-secondary\">\\n          &copy; 1996-2014, Amazon.com, Inc. or its affiliates\\n          <script>\\n           if (true === true) {\\n             document.write(\\'<img src=\"https://fls-na.amaz\\'+\\'on.com/\\'+\\'1/oc-csi/1/OP/requestId=E67ZZBEAR0T6XHDHXT7D&js=1\" />\\');\\n           };\\n          </script>\\n          <noscript>\\n            <img src=\"https://fls-na.amazon.com/1/oc-csi/1/OP/requestId=E67ZZBEAR0T6XHDHXT7D&js=0\" />\\n          </noscript>\\n        </div>\\n    </div>\\n    <script>\\n    if (true === true) {\\n        var head = document.getElementsByTagName(\\'head\\')[0],\\n            prefix = \"https://images-na.ssl-images-amazon.com/images/G/01/csminstrumentation/\",\\n            elem = document.createElement(\"script\");\\n        elem.src = prefix + \"csm-captcha-instrumentation.min.js\";\\n        head.appendChild(elem);\\n\\n        elem = document.createElement(\"script\");\\n        elem.src = prefix + \"rd-script-6d68177fa6061598e9509dc4b5bdd08d.js\";\\n        head.appendChild(elem);\\n    }\\n    </script>\\n</body></html>\\n'"
      ]
     },
     "execution_count": 94,
     "metadata": {},
     "output_type": "execute_result"
    }
   ],
   "source": [
    "page.content"
   ]
  },
  {
   "cell_type": "code",
   "execution_count": 95,
   "id": "6fba4c11",
   "metadata": {},
   "outputs": [
    {
     "name": "stdout",
     "output_type": "stream",
     "text": [
      "<!DOCTYPE html>\n",
      "<!--[if lt IE 7]> <html lang=\"en-us\" class=\"a-no-js a-lt-ie9 a-lt-ie8 a-lt-ie7\"> <![endif]-->\n",
      "<!--[if IE 7]>    <html lang=\"en-us\" class=\"a-no-js a-lt-ie9 a-lt-ie8\"> <![endif]-->\n",
      "<!--[if IE 8]>    <html lang=\"en-us\" class=\"a-no-js a-lt-ie9\"> <![endif]-->\n",
      "<!--[if gt IE 8]><!-->\n",
      "<html class=\"a-no-js\" lang=\"en-us\">\n",
      " <!--<![endif]-->\n",
      " <head>\n",
      "  <meta content=\"text/html; charset=utf-8\" http-equiv=\"content-type\"/>\n",
      "  <meta charset=\"utf-8\"/>\n",
      "  <meta content=\"IE=edge,chrome=1\" http-equiv=\"X-UA-Compatible\"/>\n",
      "  <title dir=\"ltr\">\n",
      "   Amazon.com\n",
      "  </title>\n",
      "  <meta content=\"width=device-width\" name=\"viewport\"/>\n",
      "  <link href=\"https://images-na.ssl-images-amazon.com/images/G/01/AUIClients/AmazonUI-3c913031596ca78a3768f4e934b1cc02ce238101.secure.min._V1_.css\" rel=\"stylesheet\"/>\n",
      "  <script>\n",
      "   if (true === true) {\n",
      "    var ue_t0 = (+ new Date()),\n",
      "        ue_csm = window,\n",
      "        ue = { t0: ue_t0, d: function() { return (+new Date() - ue_t0); } },\n",
      "        ue_furl = \"fls-na.amazon.com\",\n",
      "        ue_mid = \"ATVPDKIKX0DER\",\n",
      "        ue_sid = (document.cookie.match(/session-id=([0-9-]+)/) || [])[1],\n",
      "        ue_sn = \"opfcaptcha.amazon.com\",\n",
      "        ue_id = 'E67ZZBEAR0T6XHDHXT7D';\n",
      "}\n",
      "  </script>\n",
      " </head>\n",
      " <body>\n",
      "  <!--\n",
      "        To discuss automated access to Amazon data please contact api-services-support@amazon.com.\n",
      "        For information about migrating to our APIs refer to our Marketplace APIs at https://developer.amazonservices.com/ref=rm_c_sv, or our Product Advertising API at https://affiliate-program.amazon.com/gp/advertising/api/detail/main.html/ref=rm_c_ac for advertising use cases.\n",
      "-->\n",
      "  <!--\n",
      "Correios.DoNotSend\n",
      "-->\n",
      "  <div class=\"a-container a-padding-double-large\" style=\"min-width:350px;padding:44px 0 !important\">\n",
      "   <div class=\"a-row a-spacing-double-large\" style=\"width: 350px; margin: 0 auto\">\n",
      "    <div class=\"a-row a-spacing-medium a-text-center\">\n",
      "     <i class=\"a-icon a-logo\">\n",
      "     </i>\n",
      "    </div>\n",
      "    <div class=\"a-box a-alert a-alert-info a-spacing-base\">\n",
      "     <div class=\"a-box-inner\">\n",
      "      <i class=\"a-icon a-icon-alert\">\n",
      "      </i>\n",
      "      <h4>\n",
      "       Enter the characters you see below\n",
      "      </h4>\n",
      "      <p class=\"a-last\">\n",
      "       Sorry, we just need to make sure you're not a robot. For best results, please make sure your browser is accepting cookies.\n",
      "      </p>\n",
      "     </div>\n",
      "    </div>\n",
      "    <div class=\"a-section\">\n",
      "     <div class=\"a-box a-color-offset-background\">\n",
      "      <div class=\"a-box-inner a-padding-extra-large\">\n",
      "       <form action=\"/errors/validateCaptcha\" method=\"get\" name=\"\">\n",
      "        <input name=\"amzn\" type=\"hidden\" value=\"FkwfpmjpDqZAu4wnCC29dg==\"/>\n",
      "        <input name=\"amzn-r\" type=\"hidden\" value=\"/Xiaomi-Factory-Unlocked-Compatible-International/dp/B08Y8MDMF4/ref=sr_1_1?crid=263OYGIJFKDOT&amp;keywords=xiaomi+redmi+note+10+pro&amp;qid=1641844872&amp;sprefix=xiaomi+%2Caps%2C158&amp;sr=8-1\"/>\n",
      "        <div class=\"a-row a-spacing-large\">\n",
      "         <div class=\"a-box\">\n",
      "          <div class=\"a-box-inner\">\n",
      "           <h4>\n",
      "            Type the characters you see in this image:\n",
      "           </h4>\n",
      "           <div class=\"a-row a-text-center\">\n",
      "            <img src=\"https://images-na.ssl-images-amazon.com/captcha/derqnxxq/Captcha_hgdtcewwfl.jpg\"/>\n",
      "           </div>\n",
      "           <div class=\"a-row a-spacing-base\">\n",
      "            <div class=\"a-row\">\n",
      "             <div class=\"a-column a-span6\">\n",
      "             </div>\n",
      "             <div class=\"a-column a-span6 a-span-last a-text-right\">\n",
      "              <a onclick=\"window.location.reload()\">\n",
      "               Try different image\n",
      "              </a>\n",
      "             </div>\n",
      "            </div>\n",
      "            <input autocapitalize=\"off\" autocomplete=\"off\" autocorrect=\"off\" class=\"a-span12\" id=\"captchacharacters\" name=\"field-keywords\" placeholder=\"Type characters\" spellcheck=\"false\" type=\"text\"/>\n",
      "           </div>\n",
      "          </div>\n",
      "         </div>\n",
      "        </div>\n",
      "        <div class=\"a-section a-spacing-extra-large\">\n",
      "         <div class=\"a-row\">\n",
      "          <span class=\"a-button a-button-primary a-span12\">\n",
      "           <span class=\"a-button-inner\">\n",
      "            <button class=\"a-button-text\" type=\"submit\">\n",
      "             Continue shopping\n",
      "            </button>\n",
      "           </span>\n",
      "          </span>\n",
      "         </div>\n",
      "        </div>\n",
      "       </form>\n",
      "      </div>\n",
      "     </div>\n",
      "    </div>\n",
      "   </div>\n",
      "   <div class=\"a-divider a-divider-section\">\n",
      "    <div class=\"a-divider-inner\">\n",
      "    </div>\n",
      "   </div>\n",
      "   <div class=\"a-text-center a-spacing-small a-size-mini\">\n",
      "    <a href=\"https://www.amazon.com/gp/help/customer/display.html/ref=footer_cou?ie=UTF8&amp;nodeId=508088\">\n",
      "     Conditions of Use\n",
      "    </a>\n",
      "    <span class=\"a-letter-space\">\n",
      "    </span>\n",
      "    <span class=\"a-letter-space\">\n",
      "    </span>\n",
      "    <span class=\"a-letter-space\">\n",
      "    </span>\n",
      "    <span class=\"a-letter-space\">\n",
      "    </span>\n",
      "    <a href=\"https://www.amazon.com/gp/help/customer/display.html/ref=footer_privacy?ie=UTF8&amp;nodeId=468496\">\n",
      "     Privacy Policy\n",
      "    </a>\n",
      "   </div>\n",
      "   <div class=\"a-text-center a-size-mini a-color-secondary\">\n",
      "    © 1996-2014, Amazon.com, Inc. or its affiliates\n",
      "    <script>\n",
      "     if (true === true) {\n",
      "             document.write('<img src=\"https://fls-na.amaz'+'on.com/'+'1/oc-csi/1/OP/requestId=E67ZZBEAR0T6XHDHXT7D&js=1\" />');\n",
      "           };\n",
      "    </script>\n",
      "    <noscript>\n",
      "     <img src=\"https://fls-na.amazon.com/1/oc-csi/1/OP/requestId=E67ZZBEAR0T6XHDHXT7D&amp;js=0\">\n",
      "     </img>\n",
      "    </noscript>\n",
      "   </div>\n",
      "  </div>\n",
      "  <script>\n",
      "   if (true === true) {\n",
      "        var head = document.getElementsByTagName('head')[0],\n",
      "            prefix = \"https://images-na.ssl-images-amazon.com/images/G/01/csminstrumentation/\",\n",
      "            elem = document.createElement(\"script\");\n",
      "        elem.src = prefix + \"csm-captcha-instrumentation.min.js\";\n",
      "        head.appendChild(elem);\n",
      "\n",
      "        elem = document.createElement(\"script\");\n",
      "        elem.src = prefix + \"rd-script-6d68177fa6061598e9509dc4b5bdd08d.js\";\n",
      "        head.appendChild(elem);\n",
      "    }\n",
      "  </script>\n",
      " </body>\n",
      "</html>\n",
      "\n"
     ]
    }
   ],
   "source": [
    "soup = bs(page.content, \"html.parser\")\n",
    "soup.i.get_text()\n",
    "print(soup.prettify())"
   ]
  },
  {
   "cell_type": "code",
   "execution_count": 96,
   "id": "31863e2c",
   "metadata": {},
   "outputs": [],
   "source": [
    "names = soup.find_all(\"span\",class_= \"a-profile-name\")"
   ]
  },
  {
   "cell_type": "code",
   "execution_count": 97,
   "id": "e4b5e8fe",
   "metadata": {},
   "outputs": [
    {
     "data": {
      "text/plain": [
       "[]"
      ]
     },
     "execution_count": 97,
     "metadata": {},
     "output_type": "execute_result"
    }
   ],
   "source": [
    "names"
   ]
  },
  {
   "cell_type": "code",
   "execution_count": 98,
   "id": "f5ce0860",
   "metadata": {},
   "outputs": [],
   "source": [
    "customer_name = []\n",
    "\n",
    "for i in range (0, len(names)):\n",
    "    customer_name.append(names[i].get_text())"
   ]
  },
  {
   "cell_type": "code",
   "execution_count": 99,
   "id": "16b952a6",
   "metadata": {},
   "outputs": [
    {
     "data": {
      "text/plain": [
       "[]"
      ]
     },
     "execution_count": 99,
     "metadata": {},
     "output_type": "execute_result"
    }
   ],
   "source": [
    "customer_name"
   ]
  },
  {
   "cell_type": "code",
   "execution_count": 100,
   "id": "ba018f3d",
   "metadata": {},
   "outputs": [
    {
     "ename": "IndexError",
     "evalue": "pop from empty list",
     "output_type": "error",
     "traceback": [
      "\u001b[1;31m---------------------------------------------------------------------------\u001b[0m",
      "\u001b[1;31mIndexError\u001b[0m                                Traceback (most recent call last)",
      "\u001b[1;32m~\\AppData\\Local\\Temp/ipykernel_12648/1083930413.py\u001b[0m in \u001b[0;36m<module>\u001b[1;34m\u001b[0m\n\u001b[1;32m----> 1\u001b[1;33m \u001b[0mcustomer_name\u001b[0m\u001b[1;33m.\u001b[0m\u001b[0mpop\u001b[0m\u001b[1;33m(\u001b[0m\u001b[1;36m0\u001b[0m\u001b[1;33m)\u001b[0m\u001b[1;33m\u001b[0m\u001b[1;33m\u001b[0m\u001b[0m\n\u001b[0m",
      "\u001b[1;31mIndexError\u001b[0m: pop from empty list"
     ]
    }
   ],
   "source": [
    "customer_name.pop(0)"
   ]
  },
  {
   "cell_type": "code",
   "execution_count": 37,
   "id": "41b8e40a",
   "metadata": {},
   "outputs": [],
   "source": [
    "title = soup.find_all(\"a\", class_= \"review-title-content\")"
   ]
  },
  {
   "cell_type": "code",
   "execution_count": 38,
   "id": "cf0c8104",
   "metadata": {},
   "outputs": [
    {
     "data": {
      "text/plain": [
       "[<a class=\"a-size-base a-link-normal review-title a-color-base review-title-content a-text-bold\" data-hook=\"review-title\" href=\"/gp/customer-reviews/R38I0C8WN6YZRP?ASIN=B08Y8MDMF4\">\n",
       " <span>Works no problem with ATT in SF bay area</span>\n",
       " </a>,\n",
       " <a class=\"a-size-base a-link-normal review-title a-color-base review-title-content a-text-bold\" data-hook=\"review-title\" href=\"/gp/customer-reviews/R2VATCE5C8Z1CS?ASIN=B08Y8MDMF4\">\n",
       " <span>need more details about unsupported carriers</span>\n",
       " </a>,\n",
       " <a class=\"a-size-base a-link-normal review-title a-color-base review-title-content a-text-bold\" data-hook=\"review-title\" href=\"/gp/customer-reviews/R2Q4SAHE4M4MHS?ASIN=B08Y8MDMF4\">\n",
       " <span>Do not waste your money if you re at USA</span>\n",
       " </a>,\n",
       " <a class=\"a-size-base a-link-normal review-title a-color-base review-title-content a-text-bold\" data-hook=\"review-title\" href=\"/gp/customer-reviews/R66TJPQBRM3L7?ASIN=B08Y8MDMF4\">\n",
       " <span>No US carrier will activate due to IMEI issues</span>\n",
       " </a>,\n",
       " <a class=\"a-size-base a-link-normal review-title a-color-base review-title-content a-text-bold\" data-hook=\"review-title\" href=\"/gp/customer-reviews/R2CHCW7N6KYCI7?ASIN=B08Y8MDMF4\">\n",
       " <span>Misleading description, International version not compatible with US carrier</span>\n",
       " </a>,\n",
       " <a class=\"a-size-base a-link-normal review-title a-color-base review-title-content a-text-bold\" data-hook=\"review-title\" href=\"/gp/customer-reviews/RD1H49OSG551R?ASIN=B08Y8MDMF4\">\n",
       " <span>Works with att</span>\n",
       " </a>,\n",
       " <a class=\"a-size-base a-link-normal review-title a-color-base review-title-content a-text-bold\" data-hook=\"review-title\" href=\"/gp/customer-reviews/R22FMUHETJRQM2?ASIN=B08Y8MDMF4\">\n",
       " <span>I'm impressed very close 2nd to Samsung S21</span>\n",
       " </a>,\n",
       " <a class=\"a-size-base a-link-normal review-title a-color-base review-title-content a-text-bold\" data-hook=\"review-title\" href=\"/gp/customer-reviews/R2NIULW4M3XLUW?ASIN=B08Y8MDMF4\">\n",
       " <span>Good quality n price</span>\n",
       " </a>]"
      ]
     },
     "execution_count": 38,
     "metadata": {},
     "output_type": "execute_result"
    }
   ],
   "source": [
    "title"
   ]
  },
  {
   "cell_type": "code",
   "execution_count": 39,
   "id": "de9a2e1a",
   "metadata": {},
   "outputs": [],
   "source": [
    "review_title = []\n",
    "\n",
    "for i in range (0, len(title)):\n",
    "    review_title.append(title[i].get_text())"
   ]
  },
  {
   "cell_type": "code",
   "execution_count": 40,
   "id": "51c08795",
   "metadata": {},
   "outputs": [
    {
     "data": {
      "text/plain": [
       "['\\nWorks no problem with ATT in SF bay area\\n',\n",
       " '\\nneed more details about unsupported carriers\\n',\n",
       " '\\nDo not waste your money if you re at USA\\n',\n",
       " '\\nNo US carrier will activate due to IMEI issues\\n',\n",
       " '\\nMisleading description, International version not compatible with US carrier\\n',\n",
       " '\\nWorks with att\\n',\n",
       " \"\\nI'm impressed very close 2nd to Samsung S21\\n\",\n",
       " '\\nGood quality n price\\n']"
      ]
     },
     "execution_count": 40,
     "metadata": {},
     "output_type": "execute_result"
    }
   ],
   "source": [
    "review_title"
   ]
  },
  {
   "cell_type": "code",
   "execution_count": 48,
   "id": "f8d63820",
   "metadata": {},
   "outputs": [],
   "source": [
    "review_title[:] = [titles.lstrip(\"\\n\")for titles in review_title]"
   ]
  },
  {
   "cell_type": "code",
   "execution_count": 49,
   "id": "e362be24",
   "metadata": {},
   "outputs": [
    {
     "data": {
      "text/plain": [
       "['Works no problem with ATT in SF bay area',\n",
       " 'need more details about unsupported carriers',\n",
       " 'Do not waste your money if you re at USA',\n",
       " 'No US carrier will activate due to IMEI issues',\n",
       " 'Misleading description, International version not compatible with US carrier',\n",
       " 'Works with att',\n",
       " \"I'm impressed very close 2nd to Samsung S21\",\n",
       " 'Good quality n price']"
      ]
     },
     "execution_count": 49,
     "metadata": {},
     "output_type": "execute_result"
    }
   ],
   "source": [
    "review_title"
   ]
  },
  {
   "cell_type": "code",
   "execution_count": 50,
   "id": "9d1c145b",
   "metadata": {},
   "outputs": [],
   "source": [
    "rating = soup.find_all(\"i\",class_= \"review-rating\")"
   ]
  },
  {
   "cell_type": "code",
   "execution_count": 51,
   "id": "a56f9bb3",
   "metadata": {},
   "outputs": [
    {
     "data": {
      "text/plain": [
       "[<i class=\"a-icon a-icon-star a-star-5 review-rating\" data-hook=\"review-star-rating\"><span class=\"a-icon-alt\">5.0 out of 5 stars</span></i>,\n",
       " <i class=\"a-icon a-icon-star a-star-2 review-rating\" data-hook=\"review-star-rating\"><span class=\"a-icon-alt\">2.0 out of 5 stars</span></i>,\n",
       " <i class=\"a-icon a-icon-star a-star-2 review-rating\" data-hook=\"review-star-rating\"><span class=\"a-icon-alt\">2.0 out of 5 stars</span></i>,\n",
       " <i class=\"a-icon a-icon-star a-star-2 review-rating\" data-hook=\"review-star-rating\"><span class=\"a-icon-alt\">2.0 out of 5 stars</span></i>,\n",
       " <i class=\"a-icon a-icon-star a-star-1 review-rating\" data-hook=\"review-star-rating\"><span class=\"a-icon-alt\">1.0 out of 5 stars</span></i>,\n",
       " <i class=\"a-icon a-icon-star a-star-5 review-rating\" data-hook=\"review-star-rating\"><span class=\"a-icon-alt\">5.0 out of 5 stars</span></i>,\n",
       " <i class=\"a-icon a-icon-star a-star-5 review-rating\" data-hook=\"review-star-rating\"><span class=\"a-icon-alt\">5.0 out of 5 stars</span></i>,\n",
       " <i class=\"a-icon a-icon-star a-star-5 review-rating\" data-hook=\"review-star-rating\"><span class=\"a-icon-alt\">5.0 out of 5 stars</span></i>,\n",
       " <i class=\"a-icon a-icon-star a-star-5 review-rating\" data-hook=\"cmps-review-star-rating\"><span class=\"a-icon-alt\">5.0 out of 5 stars</span></i>,\n",
       " <i class=\"a-icon a-icon-star a-star-5 review-rating\" data-hook=\"cmps-review-star-rating\"><span class=\"a-icon-alt\">5.0 out of 5 stars</span></i>,\n",
       " <i class=\"a-icon a-icon-star a-star-5 review-rating\" data-hook=\"cmps-review-star-rating\"><span class=\"a-icon-alt\">5.0 out of 5 stars</span></i>,\n",
       " <i class=\"a-icon a-icon-star a-star-5 review-rating\" data-hook=\"cmps-review-star-rating\"><span class=\"a-icon-alt\">5.0 out of 5 stars</span></i>,\n",
       " <i class=\"a-icon a-icon-star a-star-5 review-rating\" data-hook=\"cmps-review-star-rating\"><span class=\"a-icon-alt\">5.0 out of 5 stars</span></i>]"
      ]
     },
     "execution_count": 51,
     "metadata": {},
     "output_type": "execute_result"
    }
   ],
   "source": [
    "rating"
   ]
  },
  {
   "cell_type": "code",
   "execution_count": 52,
   "id": "ff030005",
   "metadata": {},
   "outputs": [],
   "source": [
    "rate = []\n",
    "\n",
    "for i in range (0, len(rating)):\n",
    "    rate.append(rating[i].get_text())"
   ]
  },
  {
   "cell_type": "code",
   "execution_count": 22,
   "id": "97649adb",
   "metadata": {},
   "outputs": [
    {
     "data": {
      "text/plain": [
       "['5.0 out of 5 stars',\n",
       " '2.0 out of 5 stars',\n",
       " '2.0 out of 5 stars',\n",
       " '2.0 out of 5 stars',\n",
       " '1.0 out of 5 stars',\n",
       " '5.0 out of 5 stars',\n",
       " '5.0 out of 5 stars',\n",
       " '5.0 out of 5 stars',\n",
       " '5.0 out of 5 stars',\n",
       " '5.0 out of 5 stars',\n",
       " '5.0 out of 5 stars',\n",
       " '5.0 out of 5 stars',\n",
       " '5.0 out of 5 stars']"
      ]
     },
     "execution_count": 22,
     "metadata": {},
     "output_type": "execute_result"
    }
   ],
   "source": [
    "rate"
   ]
  },
  {
   "cell_type": "code",
   "execution_count": 68,
   "id": "a2c7fbb3",
   "metadata": {},
   "outputs": [],
   "source": [
    "review = soup.find_all(\"span\",{\"data-hook\":\"review-body\"})"
   ]
  },
  {
   "cell_type": "code",
   "execution_count": 69,
   "id": "449c4665",
   "metadata": {},
   "outputs": [
    {
     "data": {
      "text/plain": [
       "[<span class=\"a-size-base review-text\" data-hook=\"review-body\"><div class=\"a-expander-collapsed-height a-row a-expander-container a-expander-partial-collapse-container\" data-a-expander-collapsed-height=\"300\" data-a-expander-name=\"review_text_read_more\" style=\"max-height:300px\"><div aria-expanded=\"false\" class=\"a-expander-content reviewText review-text-content a-expander-partial-collapse-content\" data-hook=\"review-collapsed\">\n",
       " <span>\n",
       "   7/3/21<br/>Works as it should. I'll post a more in depth review as I get used to it.<br/><br/>Edit 7/24/21<br/>I just updated to MIUI 12.5.3.0 running android 11 and it seems to have made the phone a bit more snappy. The new style upper right side settings / upper left side notifications menus are more responsive as well as the google search / news section.<br/><br/>Once an app like instagram or facebook is loaded in the background it recalls it within a second or so. No issues at all with AT&amp;T. I can use the hotspot with my computer and it is very fast.<br/><br/>My partner did say the microphone does not sound as good on an instagram video call as my redmi note 8 pro when I get further away from the phone. I remember reading somewhere that this was an issue so we will see if that is fixed with the latest update. It does sound notably better for video though when narrating holding the phone close to me. Much crisper and possibly a compression algorithm. It is better than my Redmi Note 8 Pro all around for video / photos. Much less grain in low light situations. Still not a flagship, but it works great for what I need it for.<br/><br/>Overall its a great phone,  a little buggy at times but its a cheap flagship clone and with the headphone jack, ir blaster, killer camera and expandable sd storage being must haves for me I'm okay dealing with a few glitches that should be cleared up as Android 12 comes along and Xiaomi releases MIUI updates. I'm one of the few that actually really likes MIUI as I got very used to it on my Redmi Note 8 Pro.<br/><br/>I will continue to update this review as major updates with notable performance improvements come along.\n",
       " </span>\n",
       " </div><div class=\"a-expander-header a-expander-partial-collapse-header\"><div class=\"a-expander-content-fade\"></div><a aria-expanded=\"false\" aria-label=\"Toggle full review text\" class=\"a-declarative\" data-a-expander-toggle='{\"allowLinkDefault\":true, \"expand_prompt\":\"Read more\", \"collapse_prompt\":\"Read less\"}' data-action=\"a-expander-toggle\" data-csa-c-func-deps=\"aui-da-a-expander-toggle\" data-csa-c-type=\"widget\" data-csa-interaction-events=\"click\" data-hook=\"expand-collapse-read-more-less\" href=\"javascript:void(0)\" role=\"button\"><i class=\"a-icon a-icon-extender-expand\"></i><span class=\"a-expander-prompt\">Read more</span></a></div></div></span>,\n",
       " <span class=\"a-size-base review-text\" data-hook=\"review-body\"><div class=\"a-expander-collapsed-height a-row a-expander-container a-expander-partial-collapse-container\" data-a-expander-collapsed-height=\"300\" data-a-expander-name=\"review_text_read_more\" style=\"max-height:300px\"><div aria-expanded=\"false\" class=\"a-expander-content reviewText review-text-content a-expander-partial-collapse-content\" data-hook=\"review-collapsed\">\n",
       " <span>\n",
       "   very good device but it is also not compatible with metropcs\n",
       " </span>\n",
       " </div><div class=\"a-expander-header a-expander-partial-collapse-header\"><div class=\"a-expander-content-fade\"></div><a aria-expanded=\"false\" aria-label=\"Toggle full review text\" class=\"a-declarative\" data-a-expander-toggle='{\"allowLinkDefault\":true, \"expand_prompt\":\"Read more\", \"collapse_prompt\":\"Read less\"}' data-action=\"a-expander-toggle\" data-csa-c-func-deps=\"aui-da-a-expander-toggle\" data-csa-c-type=\"widget\" data-csa-interaction-events=\"click\" data-hook=\"expand-collapse-read-more-less\" href=\"javascript:void(0)\" role=\"button\"><i class=\"a-icon a-icon-extender-expand\"></i><span class=\"a-expander-prompt\">Read more</span></a></div></div></span>,\n",
       " <span class=\"a-size-base review-text\" data-hook=\"review-body\"><div class=\"a-expander-collapsed-height a-row a-expander-container a-expander-partial-collapse-container\" data-a-expander-collapsed-height=\"300\" data-a-expander-name=\"review_text_read_more\" style=\"max-height:300px\"><div aria-expanded=\"false\" class=\"a-expander-content reviewText review-text-content a-expander-partial-collapse-content\" data-hook=\"review-collapsed\">\n",
       " <span>\n",
       "   Dont waste your money if you re at USA not a single carrier will activate Xiaomi phones they say that they re changing antennas and need to be a new phone ,but since this is a march 2021 relase they just continue saying that they cant activate Xiaomi phones,the phone is excellent but shame that you cant activate here at USA.\n",
       " </span>\n",
       " </div><div class=\"a-expander-header a-expander-partial-collapse-header\"><div class=\"a-expander-content-fade\"></div><a aria-expanded=\"false\" aria-label=\"Toggle full review text\" class=\"a-declarative\" data-a-expander-toggle='{\"allowLinkDefault\":true, \"expand_prompt\":\"Read more\", \"collapse_prompt\":\"Read less\"}' data-action=\"a-expander-toggle\" data-csa-c-func-deps=\"aui-da-a-expander-toggle\" data-csa-c-type=\"widget\" data-csa-interaction-events=\"click\" data-hook=\"expand-collapse-read-more-less\" href=\"javascript:void(0)\" role=\"button\"><i class=\"a-icon a-icon-extender-expand\"></i><span class=\"a-expander-prompt\">Read more</span></a></div></div></span>,\n",
       " <span class=\"a-size-base review-text\" data-hook=\"review-body\"><div class=\"a-expander-collapsed-height a-row a-expander-container a-expander-partial-collapse-container\" data-a-expander-collapsed-height=\"300\" data-a-expander-name=\"review_text_read_more\" style=\"max-height:300px\"><div aria-expanded=\"false\" class=\"a-expander-content reviewText review-text-content a-expander-partial-collapse-content\" data-hook=\"review-collapsed\">\n",
       " <span>\n",
       "   First off. I have owned every Redmi Note since model 6.  Waited patiently for the 10 pro.  Ordered two since my GF also has a note 9 pro.  Soon as I swapped  Sim card  cricket flagged phone as incompatible with HD voice.  Two hours on phone and no resolution.  Then decided to change providers.  Called liberally every major and minor company  in the USA.  As soon as they enter the imei it is declined.  Also went to many websites to check compatibility..  same issue.  Tried both over from my phone and both from hers.  These are global edition phones.  Sadly we had to return them.  The phone itself is awesome.  Camera is amazing. Screen and colors are sweet.  No\n",
       " </span>\n",
       " </div><div class=\"a-expander-header a-expander-partial-collapse-header\"><div class=\"a-expander-content-fade\"></div><a aria-expanded=\"false\" aria-label=\"Toggle full review text\" class=\"a-declarative\" data-a-expander-toggle='{\"allowLinkDefault\":true, \"expand_prompt\":\"Read more\", \"collapse_prompt\":\"Read less\"}' data-action=\"a-expander-toggle\" data-csa-c-func-deps=\"aui-da-a-expander-toggle\" data-csa-c-type=\"widget\" data-csa-interaction-events=\"click\" data-hook=\"expand-collapse-read-more-less\" href=\"javascript:void(0)\" role=\"button\"><i class=\"a-icon a-icon-extender-expand\"></i><span class=\"a-expander-prompt\">Read more</span></a></div></div></span>,\n",
       " <span class=\"a-size-base review-text\" data-hook=\"review-body\"><div class=\"a-expander-collapsed-height a-row a-expander-container a-expander-partial-collapse-container\" data-a-expander-collapsed-height=\"300\" data-a-expander-name=\"review_text_read_more\" style=\"max-height:300px\"><div aria-expanded=\"false\" class=\"a-expander-content reviewText review-text-content a-expander-partial-collapse-content\" data-hook=\"review-collapsed\">\n",
       " <span>\n",
       "   Was excited to get this phone vause i wanted a gaming phone, would of been my first Xiaomi I needed this phone to work as i was replacing one that was too damaged to operate. I had to go all weekend without a phone waiting for this But then I find out Sunday its not compatible with my provider Metro by T-Mobile so i had to spend more money to get a phone from my store! I am beyond pissed the \"international\" version is not what it sounds like. It gives the impression it will work internationally since this is a chinese brand phone.... but it doesn't\n",
       " </span>\n",
       " </div><div class=\"a-expander-header a-expander-partial-collapse-header\"><div class=\"a-expander-content-fade\"></div><a aria-expanded=\"false\" aria-label=\"Toggle full review text\" class=\"a-declarative\" data-a-expander-toggle='{\"allowLinkDefault\":true, \"expand_prompt\":\"Read more\", \"collapse_prompt\":\"Read less\"}' data-action=\"a-expander-toggle\" data-csa-c-func-deps=\"aui-da-a-expander-toggle\" data-csa-c-type=\"widget\" data-csa-interaction-events=\"click\" data-hook=\"expand-collapse-read-more-less\" href=\"javascript:void(0)\" role=\"button\"><i class=\"a-icon a-icon-extender-expand\"></i><span class=\"a-expander-prompt\">Read more</span></a></div></div></span>,\n",
       " <span class=\"a-size-base review-text\" data-hook=\"review-body\"><div class=\"a-expander-collapsed-height a-row a-expander-container a-expander-partial-collapse-container\" data-a-expander-collapsed-height=\"300\" data-a-expander-name=\"review_text_read_more\" style=\"max-height:300px\"><div aria-expanded=\"false\" class=\"a-expander-content reviewText review-text-content a-expander-partial-collapse-content\" data-hook=\"review-collapsed\">\n",
       " <span>\n",
       "   Good phone for the price, can't be beat. Notice all the bad reviews are for people that try to get it to work on a network that doesn't support the bands. Just check with your carrier which bands they support and cross reference with this device. Again the specs on this are really good and you would need to pay like a grand to get it on samsung/apple/google.\n",
       " </span>\n",
       " </div><div class=\"a-expander-header a-expander-partial-collapse-header\"><div class=\"a-expander-content-fade\"></div><a aria-expanded=\"false\" aria-label=\"Toggle full review text\" class=\"a-declarative\" data-a-expander-toggle='{\"allowLinkDefault\":true, \"expand_prompt\":\"Read more\", \"collapse_prompt\":\"Read less\"}' data-action=\"a-expander-toggle\" data-csa-c-func-deps=\"aui-da-a-expander-toggle\" data-csa-c-type=\"widget\" data-csa-interaction-events=\"click\" data-hook=\"expand-collapse-read-more-less\" href=\"javascript:void(0)\" role=\"button\"><i class=\"a-icon a-icon-extender-expand\"></i><span class=\"a-expander-prompt\">Read more</span></a></div></div></span>,\n",
       " <span class=\"a-size-base review-text\" data-hook=\"review-body\"><div class=\"a-expander-collapsed-height a-row a-expander-container a-expander-partial-collapse-container\" data-a-expander-collapsed-height=\"300\" data-a-expander-name=\"review_text_read_more\" style=\"max-height:300px\"><div aria-expanded=\"false\" class=\"a-expander-content reviewText review-text-content a-expander-partial-collapse-content\" data-hook=\"review-collapsed\">\n",
       " <span>\n",
       "   The pros of this phone is the quality, the price, the functionality, and the camera! This phone is very close to the Samsung Galaxy S21 Ultra. The only 2 cons are it doesn't accommodate wireless charging and it's not 5G, which isn't an issue for me, because it super fast as it is. The fingerprint reader is very good and has good accessibility.  I love all the different apps available for maintenance of the device and themes. It also came with a case and USB cable.  However, the power adapter is not for USA voltage, but I'm using one I already had. The charging time was fast and the charge last all day. I was able to switch over the info from my old Samsung S9+ phone effortlessly.  I did have a little difficulty connecting my car via Bluetooth, but once I installed the new update offered in the UI everything went smoothly. Not to mention technical support is offered with this item, and get this they can actually be reached by phone! The camera takes amazing pictures....it's the same mega pixels as the Samsung S21 Ultra.....but much, much less. In price I'm very very happy with my purchase. I don't at all regret returning my Samsung S21 that cost me  $1300+. I saved a thousand dollars. What's not to be happy about.<br/><br/>Update: I have been having problems with numerous of dropped calls and dead spaces. I have T-Mobile the number one network and I have never in the past had this issue with dropped calls. Also the front facing camera has a an illuminated foggy look to all the pictures, regardless of the amount of light. The rear camera is very close in comparison to the Samsung Galaxy 21. The user interface takes some getting use to as it is set up a little differently than the other androids I've used. Also the audio when connected to the bluetooth in my car gives terrible feedback. Overall my level of satisfaction has greatly declined due to the connection issues, I have also noticed that I don't always receive notifications for text messages. Overall I wish that I would have just went with the Samsung Galaxy 10 note.\n",
       " </span>\n",
       " </div><div class=\"a-expander-header a-expander-partial-collapse-header\"><div class=\"a-expander-content-fade\"></div><a aria-expanded=\"false\" aria-label=\"Toggle full review text\" class=\"a-declarative\" data-a-expander-toggle='{\"allowLinkDefault\":true, \"expand_prompt\":\"Read more\", \"collapse_prompt\":\"Read less\"}' data-action=\"a-expander-toggle\" data-csa-c-func-deps=\"aui-da-a-expander-toggle\" data-csa-c-type=\"widget\" data-csa-interaction-events=\"click\" data-hook=\"expand-collapse-read-more-less\" href=\"javascript:void(0)\" role=\"button\"><i class=\"a-icon a-icon-extender-expand\"></i><span class=\"a-expander-prompt\">Read more</span></a></div></div></span>,\n",
       " <span class=\"a-size-base review-text\" data-hook=\"review-body\"><div class=\"a-expander-collapsed-height a-row a-expander-container a-expander-partial-collapse-container\" data-a-expander-collapsed-height=\"300\" data-a-expander-name=\"review_text_read_more\" style=\"max-height:300px\"><div aria-expanded=\"false\" class=\"a-expander-content reviewText review-text-content a-expander-partial-collapse-content\" data-hook=\"review-collapsed\">\n",
       " <span>\n",
       "   What a great phone my  family member love it\n",
       " </span>\n",
       " </div><div class=\"a-expander-header a-expander-partial-collapse-header\"><div class=\"a-expander-content-fade\"></div><a aria-expanded=\"false\" aria-label=\"Toggle full review text\" class=\"a-declarative\" data-a-expander-toggle='{\"allowLinkDefault\":true, \"expand_prompt\":\"Read more\", \"collapse_prompt\":\"Read less\"}' data-action=\"a-expander-toggle\" data-csa-c-func-deps=\"aui-da-a-expander-toggle\" data-csa-c-type=\"widget\" data-csa-interaction-events=\"click\" data-hook=\"expand-collapse-read-more-less\" href=\"javascript:void(0)\" role=\"button\"><i class=\"a-icon a-icon-extender-expand\"></i><span class=\"a-expander-prompt\">Read more</span></a></div></div></span>,\n",
       " <span class=\"a-size-base review-text\" data-hook=\"review-body\"><div class=\"a-expander-collapsed-height a-row a-expander-container a-expander-partial-collapse-container\" data-a-expander-collapsed-height=\"300\" data-a-expander-name=\"review_text_read_more\" style=\"max-height:300px\"><div aria-expanded=\"false\" class=\"a-expander-content reviewText review-text-content a-expander-partial-collapse-content\" data-hook=\"review-collapsed\">\n",
       " <span class=\"cr-original-review-content\">\n",
       "   Als alter Samsung Fan eine Überraschung ...<br/>Das Gerät läuft wie geschmiert hält lange durch und hat ein super Display........<br/>Immer wieder gern ! Die Qualität überzeugt !\n",
       " </span><span class=\"cr-translated-review-content aok-hidden\"></span>\n",
       " </div><div class=\"a-expander-header a-expander-partial-collapse-header\"><div class=\"a-expander-content-fade\"></div><a aria-expanded=\"false\" aria-label=\"Toggle full review text\" class=\"a-declarative\" data-a-expander-toggle='{\"allowLinkDefault\":true, \"expand_prompt\":\"Read more\", \"collapse_prompt\":\"Read less\"}' data-action=\"a-expander-toggle\" data-csa-c-func-deps=\"aui-da-a-expander-toggle\" data-csa-c-type=\"widget\" data-csa-interaction-events=\"click\" data-hook=\"expand-collapse-read-more-less\" href=\"javascript:void(0)\" role=\"button\"><i class=\"a-icon a-icon-extender-expand\"></i><span class=\"a-expander-prompt\">Read more</span></a></div></div></span>,\n",
       " <span class=\"a-size-base review-text\" data-hook=\"review-body\"><div class=\"a-expander-collapsed-height a-row a-expander-container a-expander-partial-collapse-container\" data-a-expander-collapsed-height=\"300\" data-a-expander-name=\"review_text_read_more\" style=\"max-height:300px\"><div aria-expanded=\"false\" class=\"a-expander-content reviewText review-text-content a-expander-partial-collapse-content\" data-hook=\"review-collapsed\">\n",
       " <span class=\"cr-original-review-content\">\n",
       "   A tutti i \"brandisti\" che spendono almeno mille euro più per affogare le proprie insicurezze che per Reali necessità.. ma perché?? Se come me e come credo, la maggior parte della gente utilizzate uno smartphone per internet, social, mail e fotografie questo telefono fa per voi!<br/>I sei giga di RAM lo rendono molto veloce, i 128 di memoria vi consentono di salvare tutto quello che volete, la fotocamera da 108 MP immortala immagini meravigliose, forse leggermente sature nei toni caldi ma basta un piccolo settaggio per renderle bellissime, la memoria anche se stressata vi accompagnerà senza problemi fino a sera, il lettore d'impronta laterale è comodo e perfetto. Unica pecca già risaputa è il sensore di prossimità che non blocca lo schermo quando si risponde ad una chiamata ed appoggiandolo all'orecchio c'è il rischio di attivare qualcosa.. ma basta schiacciare il tasto di spegnimento dello schermo ed il problema è risolto. Immagino che, con un aggiornamento software si possa risolvere. Quindi, ha senso spendere tanto per comprare un logo? Gli smartphone sono piattaforme, la differenza sta nelle app e nel loro corretto funzionamento. Se non siete hacker questo telefono è consigliatissimo.<br/>Perché spendere di più?\n",
       " </span><span class=\"cr-translated-review-content aok-hidden\"></span>\n",
       " </div><div class=\"a-expander-header a-expander-partial-collapse-header\"><div class=\"a-expander-content-fade\"></div><a aria-expanded=\"false\" aria-label=\"Toggle full review text\" class=\"a-declarative\" data-a-expander-toggle='{\"allowLinkDefault\":true, \"expand_prompt\":\"Read more\", \"collapse_prompt\":\"Read less\"}' data-action=\"a-expander-toggle\" data-csa-c-func-deps=\"aui-da-a-expander-toggle\" data-csa-c-type=\"widget\" data-csa-interaction-events=\"click\" data-hook=\"expand-collapse-read-more-less\" href=\"javascript:void(0)\" role=\"button\"><i class=\"a-icon a-icon-extender-expand\"></i><span class=\"a-expander-prompt\">Read more</span></a></div></div></span>,\n",
       " <span class=\"a-size-base review-text\" data-hook=\"review-body\"><div class=\"a-expander-collapsed-height a-row a-expander-container a-expander-partial-collapse-container\" data-a-expander-collapsed-height=\"300\" data-a-expander-name=\"review_text_read_more\" style=\"max-height:300px\"><div aria-expanded=\"false\" class=\"a-expander-content reviewText review-text-content a-expander-partial-collapse-content\" data-hook=\"review-collapsed\">\n",
       " <span class=\"cr-original-review-content\">\n",
       "   Lo primero, he de decir que esta opinión es la de un comprador real, nadie me ha pagado por ella ni me ha ofrecido productos gratis. Lo digo porque le pongo 5 estrellas al Xiaomi Redmi Note 10 Pro de 6 GB de RAM y 128 GB de almacenamiento interno.<br/><br/>Adquirido hace un par de semanas, he de decir que el teléfono me está resultando tan satisfactorio como mi anterior Huawei P30 Lite caído en acto de servicio, pero con el añadido de más memoria RAM, un procesador más potente y una pantalla mayor. No se calienta nada, el sensor de huellas lateral funciona a la perfección, el reconocimiento facial va como un tiro y el conjunto de cámaras es más que satisfactorio. Puedes hacer fotos incluso a máximo de resolución (108 mpx) y luego hacer recortes pudiendo así suplir perfectamente la falta de un pequeño zoom óptico. Los juegos se ejecutan sin problemas y el streaming va muy fluido. La carga de su batería de 5.000 mAh es muy rápida y el NFC funciona a la perfección.<br/><br/>De momento, estoy muy satisfecho.\n",
       " </span><span class=\"cr-translated-review-content aok-hidden\"></span>\n",
       " </div><div class=\"a-expander-header a-expander-partial-collapse-header\"><div class=\"a-expander-content-fade\"></div><a aria-expanded=\"false\" aria-label=\"Toggle full review text\" class=\"a-declarative\" data-a-expander-toggle='{\"allowLinkDefault\":true, \"expand_prompt\":\"Read more\", \"collapse_prompt\":\"Read less\"}' data-action=\"a-expander-toggle\" data-csa-c-func-deps=\"aui-da-a-expander-toggle\" data-csa-c-type=\"widget\" data-csa-interaction-events=\"click\" data-hook=\"expand-collapse-read-more-less\" href=\"javascript:void(0)\" role=\"button\"><i class=\"a-icon a-icon-extender-expand\"></i><span class=\"a-expander-prompt\">Read more</span></a></div></div></span>,\n",
       " <span class=\"a-size-base review-text\" data-hook=\"review-body\"><div class=\"a-expander-collapsed-height a-row a-expander-container a-expander-partial-collapse-container\" data-a-expander-collapsed-height=\"300\" data-a-expander-name=\"review_text_read_more\" style=\"max-height:300px\"><div aria-expanded=\"false\" class=\"a-expander-content reviewText review-text-content a-expander-partial-collapse-content\" data-hook=\"review-collapsed\">\n",
       " <span class=\"cr-original-review-content\">\n",
       "   Sehr leistungsstarkes Gerät<br/>Top  Fotoqualität<br/>guter Akku\n",
       " </span><span class=\"cr-translated-review-content aok-hidden\"></span>\n",
       " </div><div class=\"a-expander-header a-expander-partial-collapse-header\"><div class=\"a-expander-content-fade\"></div><a aria-expanded=\"false\" aria-label=\"Toggle full review text\" class=\"a-declarative\" data-a-expander-toggle='{\"allowLinkDefault\":true, \"expand_prompt\":\"Read more\", \"collapse_prompt\":\"Read less\"}' data-action=\"a-expander-toggle\" data-csa-c-func-deps=\"aui-da-a-expander-toggle\" data-csa-c-type=\"widget\" data-csa-interaction-events=\"click\" data-hook=\"expand-collapse-read-more-less\" href=\"javascript:void(0)\" role=\"button\"><i class=\"a-icon a-icon-extender-expand\"></i><span class=\"a-expander-prompt\">Read more</span></a></div></div></span>,\n",
       " <span class=\"a-size-base review-text\" data-hook=\"review-body\"><div class=\"a-expander-collapsed-height a-row a-expander-container a-expander-partial-collapse-container\" data-a-expander-collapsed-height=\"300\" data-a-expander-name=\"review_text_read_more\" style=\"max-height:300px\"><div aria-expanded=\"false\" class=\"a-expander-content reviewText review-text-content a-expander-partial-collapse-content\" data-hook=\"review-collapsed\">\n",
       " <span class=\"cr-original-review-content\">\n",
       "   CELLULARE TOP DI GAMMA. VALE OGNI CENTESIMO PAGATO. ULTIMO USCITO NELLA SUA SERIA..<br/>SPEDIZIONE TOP... TUTTO ORIGINALE.. CONFEZIONE SIGILLATA..<br/><br/>INCLUDE COPERTINA TRASPARENTE MOLTO ROBUSTA...<br/>HA GIA IL VETRO TEMPERATO SULL SCHERMO PER PROTEZIONE..TOP MATERIALE...<br/><br/>QUINDI NON DOVRETE COMPRARE NIENTE A PARTE... TOP\n",
       " </span><span class=\"cr-translated-review-content aok-hidden\"></span>\n",
       " </div><div class=\"a-expander-header a-expander-partial-collapse-header\"><div class=\"a-expander-content-fade\"></div><a aria-expanded=\"false\" aria-label=\"Toggle full review text\" class=\"a-declarative\" data-a-expander-toggle='{\"allowLinkDefault\":true, \"expand_prompt\":\"Read more\", \"collapse_prompt\":\"Read less\"}' data-action=\"a-expander-toggle\" data-csa-c-func-deps=\"aui-da-a-expander-toggle\" data-csa-c-type=\"widget\" data-csa-interaction-events=\"click\" data-hook=\"expand-collapse-read-more-less\" href=\"javascript:void(0)\" role=\"button\"><i class=\"a-icon a-icon-extender-expand\"></i><span class=\"a-expander-prompt\">Read more</span></a></div></div></span>]"
      ]
     },
     "execution_count": 69,
     "metadata": {},
     "output_type": "execute_result"
    }
   ],
   "source": [
    "review"
   ]
  },
  {
   "cell_type": "code",
   "execution_count": 70,
   "id": "7d8e9c06",
   "metadata": {},
   "outputs": [],
   "source": [
    "review_content = []\n",
    "\n",
    "for i in range (0, len(review)):\n",
    "    review_content.append(review[i].get_text())"
   ]
  },
  {
   "cell_type": "code",
   "execution_count": 71,
   "id": "ad0cdf07",
   "metadata": {},
   "outputs": [
    {
     "data": {
      "text/plain": [
       "[\"\\n\\n  7/3/21Works as it should. I'll post a more in depth review as I get used to it.Edit 7/24/21I just updated to MIUI 12.5.3.0 running android 11 and it seems to have made the phone a bit more snappy. The new style upper right side settings / upper left side notifications menus are more responsive as well as the google search / news section.Once an app like instagram or facebook is loaded in the background it recalls it within a second or so. No issues at all with AT&T. I can use the hotspot with my computer and it is very fast.My partner did say the microphone does not sound as good on an instagram video call as my redmi note 8 pro when I get further away from the phone. I remember reading somewhere that this was an issue so we will see if that is fixed with the latest update. It does sound notably better for video though when narrating holding the phone close to me. Much crisper and possibly a compression algorithm. It is better than my Redmi Note 8 Pro all around for video / photos. Much less grain in low light situations. Still not a flagship, but it works great for what I need it for.Overall its a great phone,  a little buggy at times but its a cheap flagship clone and with the headphone jack, ir blaster, killer camera and expandable sd storage being must haves for me I'm okay dealing with a few glitches that should be cleared up as Android 12 comes along and Xiaomi releases MIUI updates. I'm one of the few that actually really likes MIUI as I got very used to it on my Redmi Note 8 Pro.I will continue to update this review as major updates with notable performance improvements come along.\\n\\nRead more\",\n",
       " '\\n\\n  very good device but it is also not compatible with metropcs\\n\\nRead more',\n",
       " '\\n\\n  Dont waste your money if you re at USA not a single carrier will activate Xiaomi phones they say that they re changing antennas and need to be a new phone ,but since this is a march 2021 relase they just continue saying that they cant activate Xiaomi phones,the phone is excellent but shame that you cant activate here at USA.\\n\\nRead more',\n",
       " '\\n\\n  First off. I have owned every Redmi Note since model 6.  Waited patiently for the 10 pro.  Ordered two since my GF also has a note 9 pro.  Soon as I swapped  Sim card  cricket flagged phone as incompatible with HD voice.  Two hours on phone and no resolution.  Then decided to change providers.  Called liberally every major and minor company  in the USA.  As soon as they enter the imei it is declined.  Also went to many websites to check compatibility..  same issue.  Tried both over from my phone and both from hers.  These are global edition phones.  Sadly we had to return them.  The phone itself is awesome.  Camera is amazing. Screen and colors are sweet.  No\\n\\nRead more',\n",
       " '\\n\\n  Was excited to get this phone vause i wanted a gaming phone, would of been my first Xiaomi I needed this phone to work as i was replacing one that was too damaged to operate. I had to go all weekend without a phone waiting for this But then I find out Sunday its not compatible with my provider Metro by T-Mobile so i had to spend more money to get a phone from my store! I am beyond pissed the \"international\" version is not what it sounds like. It gives the impression it will work internationally since this is a chinese brand phone.... but it doesn\\'t\\n\\nRead more',\n",
       " \"\\n\\n  Good phone for the price, can't be beat. Notice all the bad reviews are for people that try to get it to work on a network that doesn't support the bands. Just check with your carrier which bands they support and cross reference with this device. Again the specs on this are really good and you would need to pay like a grand to get it on samsung/apple/google.\\n\\nRead more\",\n",
       " \"\\n\\n  The pros of this phone is the quality, the price, the functionality, and the camera! This phone is very close to the Samsung Galaxy S21 Ultra. The only 2 cons are it doesn't accommodate wireless charging and it's not 5G, which isn't an issue for me, because it super fast as it is. The fingerprint reader is very good and has good accessibility.  I love all the different apps available for maintenance of the device and themes. It also came with a case and USB cable.  However, the power adapter is not for USA voltage, but I'm using one I already had. The charging time was fast and the charge last all day. I was able to switch over the info from my old Samsung S9+ phone effortlessly.  I did have a little difficulty connecting my car via Bluetooth, but once I installed the new update offered in the UI everything went smoothly. Not to mention technical support is offered with this item, and get this they can actually be reached by phone! The camera takes amazing pictures....it's the same mega pixels as the Samsung S21 Ultra.....but much, much less. In price I'm very very happy with my purchase. I don't at all regret returning my Samsung S21 that cost me  $1300+. I saved a thousand dollars. What's not to be happy about.Update: I have been having problems with numerous of dropped calls and dead spaces. I have T-Mobile the number one network and I have never in the past had this issue with dropped calls. Also the front facing camera has a an illuminated foggy look to all the pictures, regardless of the amount of light. The rear camera is very close in comparison to the Samsung Galaxy 21. The user interface takes some getting use to as it is set up a little differently than the other androids I've used. Also the audio when connected to the bluetooth in my car gives terrible feedback. Overall my level of satisfaction has greatly declined due to the connection issues, I have also noticed that I don't always receive notifications for text messages. Overall I wish that I would have just went with the Samsung Galaxy 10 note.\\n\\nRead more\",\n",
       " '\\n\\n  What a great phone my  family member love it\\n\\nRead more',\n",
       " '\\n\\n  Als alter Samsung Fan eine Überraschung ...Das Gerät läuft wie geschmiert hält lange durch und hat ein super Display........Immer wieder gern ! Die Qualität überzeugt !\\n\\nRead more',\n",
       " '\\n\\n  A tutti i \"brandisti\" che spendono almeno mille euro più per affogare le proprie insicurezze che per Reali necessità.. ma perché?? Se come me e come credo, la maggior parte della gente utilizzate uno smartphone per internet, social, mail e fotografie questo telefono fa per voi!I sei giga di RAM lo rendono molto veloce, i 128 di memoria vi consentono di salvare tutto quello che volete, la fotocamera da 108 MP immortala immagini meravigliose, forse leggermente sature nei toni caldi ma basta un piccolo settaggio per renderle bellissime, la memoria anche se stressata vi accompagnerà senza problemi fino a sera, il lettore d\\'impronta laterale è comodo e perfetto. Unica pecca già risaputa è il sensore di prossimità che non blocca lo schermo quando si risponde ad una chiamata ed appoggiandolo all\\'orecchio c\\'è il rischio di attivare qualcosa.. ma basta schiacciare il tasto di spegnimento dello schermo ed il problema è risolto. Immagino che, con un aggiornamento software si possa risolvere. Quindi, ha senso spendere tanto per comprare un logo? Gli smartphone sono piattaforme, la differenza sta nelle app e nel loro corretto funzionamento. Se non siete hacker questo telefono è consigliatissimo.Perché spendere di più?\\n\\nRead more',\n",
       " '\\n\\n  Lo primero, he de decir que esta opinión es la de un comprador real, nadie me ha pagado por ella ni me ha ofrecido productos gratis. Lo digo porque le pongo 5 estrellas al Xiaomi Redmi Note 10 Pro de 6 GB de RAM y 128 GB de almacenamiento interno.Adquirido hace un par de semanas, he de decir que el teléfono me está resultando tan satisfactorio como mi anterior Huawei P30 Lite caído en acto de servicio, pero con el añadido de más memoria RAM, un procesador más potente y una pantalla mayor. No se calienta nada, el sensor de huellas lateral funciona a la perfección, el reconocimiento facial va como un tiro y el conjunto de cámaras es más que satisfactorio. Puedes hacer fotos incluso a máximo de resolución (108 mpx) y luego hacer recortes pudiendo así suplir perfectamente la falta de un pequeño zoom óptico. Los juegos se ejecutan sin problemas y el streaming va muy fluido. La carga de su batería de 5.000 mAh es muy rápida y el NFC funciona a la perfección.De momento, estoy muy satisfecho.\\n\\nRead more',\n",
       " '\\n\\n  Sehr leistungsstarkes GerätTop  Fotoqualitätguter Akku\\n\\nRead more',\n",
       " '\\n\\n  CELLULARE TOP DI GAMMA. VALE OGNI CENTESIMO PAGATO. ULTIMO USCITO NELLA SUA SERIA..SPEDIZIONE TOP... TUTTO ORIGINALE.. CONFEZIONE SIGILLATA..INCLUDE COPERTINA TRASPARENTE MOLTO ROBUSTA...HA GIA IL VETRO TEMPERATO SULL SCHERMO PER PROTEZIONE..TOP MATERIALE...QUINDI NON DOVRETE COMPRARE NIENTE A PARTE... TOP\\n\\nRead more']"
      ]
     },
     "execution_count": 71,
     "metadata": {},
     "output_type": "execute_result"
    }
   ],
   "source": [
    "review_content"
   ]
  },
  {
   "cell_type": "code",
   "execution_count": 109,
   "id": "e3a982b3",
   "metadata": {},
   "outputs": [],
   "source": [
    "review_content[:] = [reviews.rstrip(\"\\n\")for reviews in review_content]"
   ]
  },
  {
   "cell_type": "code",
   "execution_count": 110,
   "id": "25a14f2d",
   "metadata": {},
   "outputs": [
    {
     "data": {
      "text/plain": [
       "[\"  7/3/21Works as it should. I'll post a more in depth review as I get used to it.Edit 7/24/21I just updated to MIUI 12.5.3.0 running android 11 and it seems to have made the phone a bit more snappy. The new style upper right side settings / upper left side notifications menus are more responsive as well as the google search / news section.Once an app like instagram or facebook is loaded in the background it recalls it within a second or so. No issues at all with AT&T. I can use the hotspot with my computer and it is very fast.My partner did say the microphone does not sound as good on an instagram video call as my redmi note 8 pro when I get further away from the phone. I remember reading somewhere that this was an issue so we will see if that is fixed with the latest update. It does sound notably better for video though when narrating holding the phone close to me. Much crisper and possibly a compression algorithm. It is better than my Redmi Note 8 Pro all around for video / photos. Much less grain in low light situations. Still not a flagship, but it works great for what I need it for.Overall its a great phone,  a little buggy at times but its a cheap flagship clone and with the headphone jack, ir blaster, killer camera and expandable sd storage being must haves for me I'm okay dealing with a few glitches that should be cleared up as Android 12 comes along and Xiaomi releases MIUI updates. I'm one of the few that actually really likes MIUI as I got very used to it on my Redmi Note 8 Pro.I will continue to update this review as major updates with notable performance improvements come along.\\n\\nRead more\",\n",
       " '  very good device but it is also not compatible with metropcs\\n\\nRead more',\n",
       " '  Dont waste your money if you re at USA not a single carrier will activate Xiaomi phones they say that they re changing antennas and need to be a new phone ,but since this is a march 2021 relase they just continue saying that they cant activate Xiaomi phones,the phone is excellent but shame that you cant activate here at USA.\\n\\nRead more',\n",
       " '  First off. I have owned every Redmi Note since model 6.  Waited patiently for the 10 pro.  Ordered two since my GF also has a note 9 pro.  Soon as I swapped  Sim card  cricket flagged phone as incompatible with HD voice.  Two hours on phone and no resolution.  Then decided to change providers.  Called liberally every major and minor company  in the USA.  As soon as they enter the imei it is declined.  Also went to many websites to check compatibility..  same issue.  Tried both over from my phone and both from hers.  These are global edition phones.  Sadly we had to return them.  The phone itself is awesome.  Camera is amazing. Screen and colors are sweet.  No\\n\\nRead more',\n",
       " '  Was excited to get this phone vause i wanted a gaming phone, would of been my first Xiaomi I needed this phone to work as i was replacing one that was too damaged to operate. I had to go all weekend without a phone waiting for this But then I find out Sunday its not compatible with my provider Metro by T-Mobile so i had to spend more money to get a phone from my store! I am beyond pissed the \"international\" version is not what it sounds like. It gives the impression it will work internationally since this is a chinese brand phone.... but it doesn\\'t\\n\\nRead more',\n",
       " \"  Good phone for the price, can't be beat. Notice all the bad reviews are for people that try to get it to work on a network that doesn't support the bands. Just check with your carrier which bands they support and cross reference with this device. Again the specs on this are really good and you would need to pay like a grand to get it on samsung/apple/google.\\n\\nRead more\",\n",
       " \"  The pros of this phone is the quality, the price, the functionality, and the camera! This phone is very close to the Samsung Galaxy S21 Ultra. The only 2 cons are it doesn't accommodate wireless charging and it's not 5G, which isn't an issue for me, because it super fast as it is. The fingerprint reader is very good and has good accessibility.  I love all the different apps available for maintenance of the device and themes. It also came with a case and USB cable.  However, the power adapter is not for USA voltage, but I'm using one I already had. The charging time was fast and the charge last all day. I was able to switch over the info from my old Samsung S9+ phone effortlessly.  I did have a little difficulty connecting my car via Bluetooth, but once I installed the new update offered in the UI everything went smoothly. Not to mention technical support is offered with this item, and get this they can actually be reached by phone! The camera takes amazing pictures....it's the same mega pixels as the Samsung S21 Ultra.....but much, much less. In price I'm very very happy with my purchase. I don't at all regret returning my Samsung S21 that cost me  $1300+. I saved a thousand dollars. What's not to be happy about.Update: I have been having problems with numerous of dropped calls and dead spaces. I have T-Mobile the number one network and I have never in the past had this issue with dropped calls. Also the front facing camera has a an illuminated foggy look to all the pictures, regardless of the amount of light. The rear camera is very close in comparison to the Samsung Galaxy 21. The user interface takes some getting use to as it is set up a little differently than the other androids I've used. Also the audio when connected to the bluetooth in my car gives terrible feedback. Overall my level of satisfaction has greatly declined due to the connection issues, I have also noticed that I don't always receive notifications for text messages. Overall I wish that I would have just went with the Samsung Galaxy 10 note.\\n\\nRead more\",\n",
       " '  What a great phone my  family member love it\\n\\nRead more',\n",
       " '  Als alter Samsung Fan eine Überraschung ...Das Gerät läuft wie geschmiert hält lange durch und hat ein super Display........Immer wieder gern ! Die Qualität überzeugt !\\n\\nRead more',\n",
       " '  A tutti i \"brandisti\" che spendono almeno mille euro più per affogare le proprie insicurezze che per Reali necessità.. ma perché?? Se come me e come credo, la maggior parte della gente utilizzate uno smartphone per internet, social, mail e fotografie questo telefono fa per voi!I sei giga di RAM lo rendono molto veloce, i 128 di memoria vi consentono di salvare tutto quello che volete, la fotocamera da 108 MP immortala immagini meravigliose, forse leggermente sature nei toni caldi ma basta un piccolo settaggio per renderle bellissime, la memoria anche se stressata vi accompagnerà senza problemi fino a sera, il lettore d\\'impronta laterale è comodo e perfetto. Unica pecca già risaputa è il sensore di prossimità che non blocca lo schermo quando si risponde ad una chiamata ed appoggiandolo all\\'orecchio c\\'è il rischio di attivare qualcosa.. ma basta schiacciare il tasto di spegnimento dello schermo ed il problema è risolto. Immagino che, con un aggiornamento software si possa risolvere. Quindi, ha senso spendere tanto per comprare un logo? Gli smartphone sono piattaforme, la differenza sta nelle app e nel loro corretto funzionamento. Se non siete hacker questo telefono è consigliatissimo.Perché spendere di più?\\n\\nRead more',\n",
       " '  Lo primero, he de decir que esta opinión es la de un comprador real, nadie me ha pagado por ella ni me ha ofrecido productos gratis. Lo digo porque le pongo 5 estrellas al Xiaomi Redmi Note 10 Pro de 6 GB de RAM y 128 GB de almacenamiento interno.Adquirido hace un par de semanas, he de decir que el teléfono me está resultando tan satisfactorio como mi anterior Huawei P30 Lite caído en acto de servicio, pero con el añadido de más memoria RAM, un procesador más potente y una pantalla mayor. No se calienta nada, el sensor de huellas lateral funciona a la perfección, el reconocimiento facial va como un tiro y el conjunto de cámaras es más que satisfactorio. Puedes hacer fotos incluso a máximo de resolución (108 mpx) y luego hacer recortes pudiendo así suplir perfectamente la falta de un pequeño zoom óptico. Los juegos se ejecutan sin problemas y el streaming va muy fluido. La carga de su batería de 5.000 mAh es muy rápida y el NFC funciona a la perfección.De momento, estoy muy satisfecho.\\n\\nRead more',\n",
       " '  Sehr leistungsstarkes GerätTop  Fotoqualitätguter Akku\\n\\nRead more',\n",
       " '  CELLULARE TOP DI GAMMA. VALE OGNI CENTESIMO PAGATO. ULTIMO USCITO NELLA SUA SERIA..SPEDIZIONE TOP... TUTTO ORIGINALE.. CONFEZIONE SIGILLATA..INCLUDE COPERTINA TRASPARENTE MOLTO ROBUSTA...HA GIA IL VETRO TEMPERATO SULL SCHERMO PER PROTEZIONE..TOP MATERIALE...QUINDI NON DOVRETE COMPRARE NIENTE A PARTE... TOP\\n\\nRead more']"
      ]
     },
     "execution_count": 110,
     "metadata": {},
     "output_type": "execute_result"
    }
   ],
   "source": [
    "review_content"
   ]
  },
  {
   "cell_type": "code",
   "execution_count": 111,
   "id": "4c47e4da",
   "metadata": {},
   "outputs": [
    {
     "data": {
      "text/plain": [
       "13"
      ]
     },
     "execution_count": 111,
     "metadata": {},
     "output_type": "execute_result"
    }
   ],
   "source": [
    "len(review_content)"
   ]
  },
  {
   "cell_type": "code",
   "execution_count": null,
   "id": "89cf20ee",
   "metadata": {},
   "outputs": [],
   "source": []
  }
 ],
 "metadata": {
  "kernelspec": {
   "display_name": "Python 3 (ipykernel)",
   "language": "python",
   "name": "python3"
  },
  "language_info": {
   "codemirror_mode": {
    "name": "ipython",
    "version": 3
   },
   "file_extension": ".py",
   "mimetype": "text/x-python",
   "name": "python",
   "nbconvert_exporter": "python",
   "pygments_lexer": "ipython3",
   "version": "3.8.8"
  }
 },
 "nbformat": 4,
 "nbformat_minor": 5
}
